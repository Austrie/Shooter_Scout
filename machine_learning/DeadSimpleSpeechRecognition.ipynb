{
 "cells": [
  {
   "cell_type": "code",
   "execution_count": 9,
   "metadata": {},
   "outputs": [
    {
     "name": "stderr",
     "output_type": "stream",
     "text": [
      "Saving vectors of label - 'cat':   0%|          | 1/1733 [00:00<05:18,  5.44it/s]"
     ]
    },
    {
     "name": "stdout",
     "output_type": "stream",
     "text": [
      "The autoreload extension is already loaded. To reload it, use:\n",
      "  %reload_ext autoreload\n"
     ]
    },
    {
     "name": "stderr",
     "output_type": "stream",
     "text": [
      "Saving vectors of label - 'cat': 100%|██████████| 1733/1733 [00:07<00:00, 237.82it/s]\n",
      "Saving vectors of label - 'bed': 100%|██████████| 1713/1713 [00:06<00:00, 247.28it/s]\n",
      "Saving vectors of label - 'happy': 100%|██████████| 1742/1742 [00:07<00:00, 245.57it/s]\n"
     ]
    }
   ],
   "source": [
    "%load_ext autoreload\n",
    "%autoreload 2\n",
    "\n",
    "from preprocess import *\n",
    "import keras\n",
    "from keras.models import Sequential\n",
    "from keras.layers import Dense, Dropout, Flatten, Conv2D, MaxPooling2D\n",
    "from keras.utils import to_categorical\n",
    "\n",
    "# Second dimension of the feature is dim2\n",
    "feature_dim_2 = 11\n",
    "\n",
    "# Save data to array file first\n",
    "save_data_to_array(max_len=feature_dim_2)\n",
    "\n",
    "# # Loading train set and test set\n",
    "X_train, X_test, y_train, y_test = get_train_test()\n",
    "\n",
    "# # Feature dimension\n",
    "feature_dim_1 = 20\n",
    "channel = 1\n",
    "epochs = 50\n",
    "batch_size = 100\n",
    "verbose = 1\n",
    "num_classes = 3\n",
    "\n",
    "# Reshaping to perform 2D convolution\n",
    "X_train = X_train.reshape(X_train.shape[0], feature_dim_1, feature_dim_2, channel)\n",
    "X_test = X_test.reshape(X_test.shape[0], feature_dim_1, feature_dim_2, channel)\n",
    "\n",
    "y_train_hot = to_categorical(y_train)\n",
    "y_test_hot = to_categorical(y_test)"
   ]
  },
  {
   "cell_type": "code",
   "execution_count": 11,
   "metadata": {},
   "outputs": [],
   "source": [
    "def get_model():\n",
    "    model = Sequential()\n",
    "    model.add(Conv2D(32, kernel_size=(2, 2), activation='relu', input_shape=(feature_dim_1, feature_dim_2, channel)))\n",
    "    model.add(Conv2D(48, kernel_size=(2, 2), activation='relu'))\n",
    "    model.add(Conv2D(120, kernel_size=(2, 2), activation='relu'))\n",
    "    model.add(MaxPooling2D(pool_size=(2, 2)))\n",
    "    model.add(Dropout(0.25))\n",
    "    model.add(Flatten())\n",
    "    model.add(Dense(128, activation='relu'))\n",
    "    model.add(Dropout(0.25))\n",
    "    model.add(Dense(64, activation='relu'))\n",
    "    model.add(Dropout(0.4))\n",
    "    model.add(Dense(num_classes, activation='softmax'))\n",
    "    model.compile(loss=keras.losses.categorical_crossentropy,\n",
    "                  optimizer=keras.optimizers.Adadelta(),\n",
    "                  metrics=['accuracy'])\n",
    "    return model\n",
    "\n",
    "# Predicts one sample\n",
    "def predict(filepath, model):\n",
    "    sample = wav2mfcc(filepath)\n",
    "    sample_reshaped = sample.reshape(1, feature_dim_1, feature_dim_2, channel)\n",
    "    return get_labels()[0][\n",
    "            np.argmax(model.predict(sample_reshaped))\n",
    "    ]"
   ]
  },
  {
   "cell_type": "markdown",
   "metadata": {},
   "source": [
    "# Building The Model Then Training it"
   ]
  },
  {
   "cell_type": "code",
   "execution_count": 12,
   "metadata": {},
   "outputs": [
    {
     "name": "stdout",
     "output_type": "stream",
     "text": [
      "Train on 3112 samples, validate on 2076 samples\n",
      "Epoch 1/50\n",
      "3112/3112 [==============================] - 3s 973us/step - loss: 1.5756 - acc: 0.4126 - val_loss: 0.8376 - val_acc: 0.6137\n",
      "Epoch 2/50\n",
      "3112/3112 [==============================] - 2s 748us/step - loss: 0.7628 - acc: 0.6681 - val_loss: 0.5120 - val_acc: 0.8078\n",
      "Epoch 3/50\n",
      "3112/3112 [==============================] - 2s 712us/step - loss: 0.5426 - acc: 0.7857 - val_loss: 0.3703 - val_acc: 0.8646\n",
      "Epoch 4/50\n",
      "3112/3112 [==============================] - 2s 771us/step - loss: 0.4191 - acc: 0.8393 - val_loss: 0.3240 - val_acc: 0.8781\n",
      "Epoch 5/50\n",
      "3112/3112 [==============================] - 2s 776us/step - loss: 0.3748 - acc: 0.8618 - val_loss: 0.2747 - val_acc: 0.9046\n",
      "Epoch 6/50\n",
      "3112/3112 [==============================] - 2s 760us/step - loss: 0.3017 - acc: 0.8891 - val_loss: 0.5409 - val_acc: 0.8030\n",
      "Epoch 7/50\n",
      "3112/3112 [==============================] - 2s 793us/step - loss: 0.2586 - acc: 0.9129 - val_loss: 0.2365 - val_acc: 0.9152\n",
      "Epoch 8/50\n",
      "3112/3112 [==============================] - 3s 826us/step - loss: 0.2017 - acc: 0.9271 - val_loss: 0.2038 - val_acc: 0.9258\n",
      "Epoch 9/50\n",
      "3112/3112 [==============================] - 2s 747us/step - loss: 0.1813 - acc: 0.9402 - val_loss: 0.2581 - val_acc: 0.9080\n",
      "Epoch 10/50\n",
      "3112/3112 [==============================] - 2s 744us/step - loss: 0.1564 - acc: 0.9496 - val_loss: 0.2214 - val_acc: 0.9277\n",
      "Epoch 11/50\n",
      "3112/3112 [==============================] - 2s 739us/step - loss: 0.1411 - acc: 0.9560 - val_loss: 0.1853 - val_acc: 0.9383\n",
      "Epoch 12/50\n",
      "3112/3112 [==============================] - 2s 765us/step - loss: 0.1056 - acc: 0.9672 - val_loss: 0.2127 - val_acc: 0.9364\n",
      "Epoch 13/50\n",
      "3112/3112 [==============================] - 2s 717us/step - loss: 0.1007 - acc: 0.9663 - val_loss: 0.2336 - val_acc: 0.9234\n",
      "Epoch 14/50\n",
      "3112/3112 [==============================] - 2s 698us/step - loss: 0.0738 - acc: 0.9743 - val_loss: 0.2195 - val_acc: 0.9417\n",
      "Epoch 15/50\n",
      "3112/3112 [==============================] - 2s 717us/step - loss: 0.0689 - acc: 0.9743 - val_loss: 0.1988 - val_acc: 0.9403\n",
      "Epoch 16/50\n",
      "3112/3112 [==============================] - 2s 711us/step - loss: 0.0549 - acc: 0.9833 - val_loss: 0.2254 - val_acc: 0.9383\n",
      "Epoch 17/50\n",
      "3112/3112 [==============================] - 2s 767us/step - loss: 0.0509 - acc: 0.9810 - val_loss: 0.2143 - val_acc: 0.9427\n",
      "Epoch 18/50\n",
      "3112/3112 [==============================] - 2s 697us/step - loss: 0.0442 - acc: 0.9846 - val_loss: 0.3342 - val_acc: 0.9162\n",
      "Epoch 19/50\n",
      "3112/3112 [==============================] - 2s 689us/step - loss: 0.0461 - acc: 0.9862 - val_loss: 0.2514 - val_acc: 0.9422\n",
      "Epoch 20/50\n",
      "3112/3112 [==============================] - 2s 706us/step - loss: 0.0360 - acc: 0.9865 - val_loss: 0.3521 - val_acc: 0.9234\n",
      "Epoch 21/50\n",
      "3112/3112 [==============================] - 2s 696us/step - loss: 0.0521 - acc: 0.9839 - val_loss: 0.2249 - val_acc: 0.9480\n",
      "Epoch 22/50\n",
      "3112/3112 [==============================] - 2s 731us/step - loss: 0.0292 - acc: 0.9923 - val_loss: 0.2305 - val_acc: 0.9489\n",
      "Epoch 23/50\n",
      "3112/3112 [==============================] - 2s 721us/step - loss: 0.0219 - acc: 0.9933 - val_loss: 0.2347 - val_acc: 0.9475\n",
      "Epoch 24/50\n",
      "3112/3112 [==============================] - 2s 680us/step - loss: 0.0294 - acc: 0.9900 - val_loss: 0.2401 - val_acc: 0.9518\n",
      "Epoch 25/50\n",
      "3112/3112 [==============================] - 2s 687us/step - loss: 0.0220 - acc: 0.9939 - val_loss: 0.2502 - val_acc: 0.9513\n",
      "Epoch 26/50\n",
      "3112/3112 [==============================] - 2s 720us/step - loss: 0.0182 - acc: 0.9939 - val_loss: 0.2416 - val_acc: 0.9480\n",
      "Epoch 27/50\n",
      "3112/3112 [==============================] - 2s 711us/step - loss: 0.0265 - acc: 0.9910 - val_loss: 0.2836 - val_acc: 0.9427\n",
      "Epoch 28/50\n",
      "3112/3112 [==============================] - 2s 731us/step - loss: 0.0173 - acc: 0.9949 - val_loss: 0.2921 - val_acc: 0.9470\n",
      "Epoch 29/50\n",
      "3112/3112 [==============================] - 2s 720us/step - loss: 0.0224 - acc: 0.9942 - val_loss: 0.2819 - val_acc: 0.9533\n",
      "Epoch 30/50\n",
      "3112/3112 [==============================] - 2s 799us/step - loss: 0.0137 - acc: 0.9955 - val_loss: 0.2800 - val_acc: 0.9446\n",
      "Epoch 31/50\n",
      "3112/3112 [==============================] - 2s 749us/step - loss: 0.0242 - acc: 0.9900 - val_loss: 0.2708 - val_acc: 0.9489\n",
      "Epoch 32/50\n",
      "3112/3112 [==============================] - 2s 737us/step - loss: 0.0150 - acc: 0.9955 - val_loss: 0.2582 - val_acc: 0.9518\n",
      "Epoch 33/50\n",
      "3112/3112 [==============================] - 2s 768us/step - loss: 0.0182 - acc: 0.9942 - val_loss: 0.3514 - val_acc: 0.9432\n",
      "Epoch 34/50\n",
      "3112/3112 [==============================] - 2s 761us/step - loss: 0.0180 - acc: 0.9955 - val_loss: 0.2964 - val_acc: 0.9465\n",
      "Epoch 35/50\n",
      "3112/3112 [==============================] - 2s 740us/step - loss: 0.0131 - acc: 0.9945 - val_loss: 0.2929 - val_acc: 0.9518\n",
      "Epoch 36/50\n",
      "3112/3112 [==============================] - 2s 698us/step - loss: 0.0118 - acc: 0.9965 - val_loss: 0.3011 - val_acc: 0.9494\n",
      "Epoch 37/50\n",
      "3112/3112 [==============================] - 2s 731us/step - loss: 0.0196 - acc: 0.9945 - val_loss: 0.3061 - val_acc: 0.9446\n",
      "Epoch 38/50\n",
      "3112/3112 [==============================] - 2s 746us/step - loss: 0.0106 - acc: 0.9965 - val_loss: 0.2820 - val_acc: 0.9504\n",
      "Epoch 39/50\n",
      "3112/3112 [==============================] - 2s 738us/step - loss: 0.0090 - acc: 0.9965 - val_loss: 0.2874 - val_acc: 0.9528\n",
      "Epoch 40/50\n",
      "3112/3112 [==============================] - 2s 743us/step - loss: 0.0109 - acc: 0.9961 - val_loss: 0.2930 - val_acc: 0.9513\n",
      "Epoch 41/50\n",
      "3112/3112 [==============================] - 2s 711us/step - loss: 0.0158 - acc: 0.9958 - val_loss: 0.2899 - val_acc: 0.9504\n",
      "Epoch 42/50\n",
      "3112/3112 [==============================] - 2s 700us/step - loss: 0.0168 - acc: 0.9961 - val_loss: 0.2646 - val_acc: 0.9489\n",
      "Epoch 43/50\n",
      "3112/3112 [==============================] - 2s 735us/step - loss: 0.0064 - acc: 0.9981 - val_loss: 0.2903 - val_acc: 0.9538\n",
      "Epoch 44/50\n",
      "3112/3112 [==============================] - 2s 746us/step - loss: 0.0145 - acc: 0.9958 - val_loss: 0.3039 - val_acc: 0.9504\n",
      "Epoch 45/50\n",
      "3112/3112 [==============================] - 2s 755us/step - loss: 0.0075 - acc: 0.9971 - val_loss: 0.2838 - val_acc: 0.9504\n",
      "Epoch 46/50\n",
      "3112/3112 [==============================] - 2s 790us/step - loss: 0.0162 - acc: 0.9955 - val_loss: 0.3334 - val_acc: 0.9509\n",
      "Epoch 47/50\n",
      "3112/3112 [==============================] - 2s 740us/step - loss: 0.0122 - acc: 0.9961 - val_loss: 0.3517 - val_acc: 0.9518\n",
      "Epoch 48/50\n",
      "3112/3112 [==============================] - 2s 737us/step - loss: 0.0124 - acc: 0.9974 - val_loss: 0.3223 - val_acc: 0.9504\n",
      "Epoch 49/50\n",
      "3112/3112 [==============================] - 2s 733us/step - loss: 0.0075 - acc: 0.9978 - val_loss: 0.2713 - val_acc: 0.9552\n",
      "Epoch 50/50\n",
      "3112/3112 [==============================] - 2s 730us/step - loss: 0.0076 - acc: 0.9974 - val_loss: 0.3045 - val_acc: 0.9528\n"
     ]
    },
    {
     "data": {
      "text/plain": [
       "<keras.callbacks.History at 0x1c1862a2b0>"
      ]
     },
     "execution_count": 12,
     "metadata": {},
     "output_type": "execute_result"
    }
   ],
   "source": [
    "model = get_model()\n",
    "model.fit(X_train, y_train_hot, batch_size=batch_size, epochs=epochs, verbose=verbose, validation_data=(X_test, y_test_hot))"
   ]
  },
  {
   "cell_type": "markdown",
   "metadata": {},
   "source": [
    "## Prediction"
   ]
  },
  {
   "cell_type": "code",
   "execution_count": 18,
   "metadata": {},
   "outputs": [
    {
     "name": "stdout",
     "output_type": "stream",
     "text": [
      "happy\n"
     ]
    }
   ],
   "source": [
    "print(predict('./data/happy/0ac15fe9_nohash_0.wav', model=model))"
   ]
  },
  {
   "cell_type": "code",
   "execution_count": 19,
   "metadata": {},
   "outputs": [
    {
     "ename": "AttributeError",
     "evalue": "'Sequential' object has no attribute 'get_session'",
     "output_type": "error",
     "traceback": [
      "\u001b[0;31m---------------------------------------------------------------------------\u001b[0m",
      "\u001b[0;31mAttributeError\u001b[0m                            Traceback (most recent call last)",
      "\u001b[0;32m<ipython-input-19-25a02e2bd34f>\u001b[0m in \u001b[0;36m<module>\u001b[0;34m()\u001b[0m\n\u001b[0;32m----> 1\u001b[0;31m \u001b[0mmodel\u001b[0m\u001b[0;34m.\u001b[0m\u001b[0mget_session\u001b[0m\u001b[0;34m(\u001b[0m\u001b[0;34m)\u001b[0m\u001b[0;34m.\u001b[0m\u001b[0mgraph\u001b[0m\u001b[0;34m\u001b[0m\u001b[0m\n\u001b[0m",
      "\u001b[0;31mAttributeError\u001b[0m: 'Sequential' object has no attribute 'get_session'"
     ]
    }
   ],
   "source": [
    "model.get_session().graph"
   ]
  },
  {
   "cell_type": "code",
   "execution_count": 21,
   "metadata": {},
   "outputs": [
    {
     "ename": "AttributeError",
     "evalue": "module 'keras' has no attribute 'get_session'",
     "output_type": "error",
     "traceback": [
      "\u001b[0;31m---------------------------------------------------------------------------\u001b[0m",
      "\u001b[0;31mAttributeError\u001b[0m                            Traceback (most recent call last)",
      "\u001b[0;32m<ipython-input-21-05fafbd66c5f>\u001b[0m in \u001b[0;36m<module>\u001b[0;34m()\u001b[0m\n\u001b[0;32m----> 1\u001b[0;31m \u001b[0mkeras\u001b[0m\u001b[0;34m.\u001b[0m\u001b[0mget_session\u001b[0m\u001b[0;34m(\u001b[0m\u001b[0;34m)\u001b[0m\u001b[0;34m\u001b[0m\u001b[0m\n\u001b[0m",
      "\u001b[0;31mAttributeError\u001b[0m: module 'keras' has no attribute 'get_session'"
     ]
    }
   ],
   "source": [
    "\n",
    "keras.get_session()"
   ]
  },
  {
   "cell_type": "code",
   "execution_count": 25,
   "metadata": {},
   "outputs": [
    {
     "data": {
      "text/plain": [
       "<tensorflow.python.framework.ops.Graph at 0x1c1862a2e8>"
      ]
     },
     "execution_count": 25,
     "metadata": {},
     "output_type": "execute_result"
    }
   ],
   "source": [
    "from keras import backend as K\n",
    "K.get_session().graph"
   ]
  },
  {
   "cell_type": "code",
   "execution_count": null,
   "metadata": {},
   "outputs": [],
   "source": []
  },
  {
   "cell_type": "code",
   "execution_count": null,
   "metadata": {},
   "outputs": [],
   "source": []
  }
 ],
 "metadata": {
  "kernelspec": {
   "display_name": "Python 3",
   "language": "python",
   "name": "python3"
  },
  "language_info": {
   "codemirror_mode": {
    "name": "ipython",
    "version": 3
   },
   "file_extension": ".py",
   "mimetype": "text/x-python",
   "name": "python",
   "nbconvert_exporter": "python",
   "pygments_lexer": "ipython3",
   "version": "3.6.4"
  }
 },
 "nbformat": 4,
 "nbformat_minor": 2
}
